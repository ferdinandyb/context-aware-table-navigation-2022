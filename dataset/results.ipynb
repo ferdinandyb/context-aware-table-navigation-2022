{
 "cells": [
  {
   "cell_type": "code",
   "execution_count": 5,
   "metadata": {
    "colab": {
     "base_uri": "https://localhost:8080/"
    },
    "executionInfo": {
     "elapsed": 2421,
     "status": "ok",
     "timestamp": 1646218666552,
     "user": {
      "displayName": "CLAUDIA ÁLVAREZ APARICIO",
      "photoUrl": "https://lh3.googleusercontent.com/a-/AOh14Gj_NeFoI_wj9jNw4H1XXIR_lAe2GmJGV47YPihOug=s64",
      "userId": "15412906191221927773"
     },
     "user_tz": -60
    },
    "id": "T_r7oiQvOQUj",
    "outputId": "8fe5a8c8-b164-4329-cf22-0124dd554ea2"
   },
   "outputs": [
    {
     "name": "stdout",
     "output_type": "stream",
     "text": [
      "Requirement already satisfied: statsmodels==0.10.2 in /srv/conda/envs/notebook/lib/python3.7/site-packages (0.10.2)\n",
      "Requirement already satisfied: pandas>=0.19 in /srv/conda/envs/notebook/lib/python3.7/site-packages (from statsmodels==0.10.2) (1.3.5)\n",
      "Requirement already satisfied: patsy>=0.4.0 in /srv/conda/envs/notebook/lib/python3.7/site-packages (from statsmodels==0.10.2) (0.5.2)\n",
      "Requirement already satisfied: numpy>=1.11 in /srv/conda/envs/notebook/lib/python3.7/site-packages (from statsmodels==0.10.2) (1.21.5)\n",
      "Requirement already satisfied: scipy>=0.18 in /srv/conda/envs/notebook/lib/python3.7/site-packages (from statsmodels==0.10.2) (1.7.3)\n",
      "Requirement already satisfied: pytz>=2017.3 in /srv/conda/envs/notebook/lib/python3.7/site-packages (from pandas>=0.19->statsmodels==0.10.2) (2021.3)\n",
      "Requirement already satisfied: python-dateutil>=2.7.3 in /srv/conda/envs/notebook/lib/python3.7/site-packages (from pandas>=0.19->statsmodels==0.10.2) (2.8.2)\n",
      "Requirement already satisfied: six in /srv/conda/envs/notebook/lib/python3.7/site-packages (from patsy>=0.4.0->statsmodels==0.10.2) (1.16.0)\n",
      "Requirement already satisfied: pandas==1.3.5 in /srv/conda/envs/notebook/lib/python3.7/site-packages (1.3.5)\n",
      "Requirement already satisfied: pytz>=2017.3 in /srv/conda/envs/notebook/lib/python3.7/site-packages (from pandas==1.3.5) (2021.3)\n",
      "Requirement already satisfied: python-dateutil>=2.7.3 in /srv/conda/envs/notebook/lib/python3.7/site-packages (from pandas==1.3.5) (2.8.2)\n",
      "Requirement already satisfied: numpy>=1.17.3 in /srv/conda/envs/notebook/lib/python3.7/site-packages (from pandas==1.3.5) (1.21.5)\n",
      "Requirement already satisfied: six>=1.5 in /srv/conda/envs/notebook/lib/python3.7/site-packages (from python-dateutil>=2.7.3->pandas==1.3.5) (1.16.0)\n",
      "Requirement already satisfied: matplotlib==3.2.2 in /srv/conda/envs/notebook/lib/python3.7/site-packages (3.2.2)\n",
      "Requirement already satisfied: numpy>=1.11 in /srv/conda/envs/notebook/lib/python3.7/site-packages (from matplotlib==3.2.2) (1.21.5)\n",
      "Requirement already satisfied: kiwisolver>=1.0.1 in /srv/conda/envs/notebook/lib/python3.7/site-packages (from matplotlib==3.2.2) (1.3.2)\n",
      "Requirement already satisfied: python-dateutil>=2.1 in /srv/conda/envs/notebook/lib/python3.7/site-packages (from matplotlib==3.2.2) (2.8.2)\n",
      "Requirement already satisfied: pyparsing!=2.0.4,!=2.1.2,!=2.1.6,>=2.0.1 in /srv/conda/envs/notebook/lib/python3.7/site-packages (from matplotlib==3.2.2) (3.0.7)\n",
      "Requirement already satisfied: cycler>=0.10 in /srv/conda/envs/notebook/lib/python3.7/site-packages (from matplotlib==3.2.2) (0.11.0)\n",
      "Requirement already satisfied: six>=1.5 in /srv/conda/envs/notebook/lib/python3.7/site-packages (from python-dateutil>=2.1->matplotlib==3.2.2) (1.16.0)\n"
     ]
    }
   ],
   "source": [
    "!pip install statsmodels==0.10.2\n",
    "!pip install pandas==1.3.5\n",
    "!pip install matplotlib==3.2.2\n",
    "import statsmodels.api as sm\n",
    "import statsmodels.formula.api as smf\n",
    "import pandas as pd\n",
    "import matplotlib.pyplot as plt\n",
    "import warnings\n",
    "warnings.filterwarnings('ignore')"
   ]
  },
  {
   "cell_type": "code",
   "execution_count": 7,
   "metadata": {
    "executionInfo": {
     "elapsed": 7,
     "status": "ok",
     "timestamp": 1646218668230,
     "user": {
      "displayName": "CLAUDIA ÁLVAREZ APARICIO",
      "photoUrl": "https://lh3.googleusercontent.com/a-/AOh14Gj_NeFoI_wj9jNw4H1XXIR_lAe2GmJGV47YPihOug=s64",
      "userId": "15412906191221927773"
     },
     "user_tz": -60
    },
    "id": "DAPc839uOr-B",
    "tags": []
   },
   "outputs": [],
   "source": [
    "df_t = pd.read_csv(\"./dataset.csv\")\n",
    "# drop when moving between same points\n",
    "df_t = df_t[df_t.going_from != df_t.going_to]\n",
    "df_g = df_t\n",
    "df_g = df_g[df_g.going_to != \" LB \"] # drop goint_to fix base because is a free-standing location\n",
    "df_t[\"groups\"] = df_t.going_from + df_t.going_to + df_t.robot"
   ]
  },
  {
   "cell_type": "code",
   "execution_count": 8,
   "metadata": {
    "executionInfo": {
     "elapsed": 6,
     "status": "ok",
     "timestamp": 1646218669830,
     "user": {
      "displayName": "CLAUDIA ÁLVAREZ APARICIO",
      "photoUrl": "https://lh3.googleusercontent.com/a-/AOh14Gj_NeFoI_wj9jNw4H1XXIR_lAe2GmJGV47YPihOug=s64",
      "userId": "15412906191221927773"
     },
     "user_tz": -60
    },
    "id": "Lcrdr94wO0vy"
   },
   "outputs": [],
   "source": [
    "def beautify(df_t):\n",
    "  df_t.real = [\"sim\" if val == 0 else \"real\" for val in df_t.real]\n",
    "  df_t.tabledist = [\"3 cm\" if val == 3 else \"15 cm\" for val in df_t.tabledist]\n",
    "  df_t[\"target dist.\"] = df_t.tabledist\n",
    "  df_t[\"contextless\"] = df_t[\"type (contextless)\"]\n",
    "  return df_t[[\"real\", \"target dist.\", \"contextless\", \"group\",\"intercept\"]]"
   ]
  },
  {
   "cell_type": "code",
   "execution_count": 9,
   "metadata": {
    "executionInfo": {
     "elapsed": 8,
     "status": "ok",
     "timestamp": 1646218698963,
     "user": {
      "displayName": "CLAUDIA ÁLVAREZ APARICIO",
      "photoUrl": "https://lh3.googleusercontent.com/a-/AOh14Gj_NeFoI_wj9jNw4H1XXIR_lAe2GmJGV47YPihOug=s64",
      "userId": "15412906191221927773"
     },
     "user_tz": -60
    },
    "id": "3BAKdziER9Sv"
   },
   "outputs": [],
   "source": [
    "def mod(df):\n",
    "  df.robot = [\"simulation\" if x == 0 else \"real\" for x in df.robot]\n",
    "  df[\"target dist.\"] = [f\"{x} cm\" for x in df[\"target dist.\"]]\n",
    "  return df"
   ]
  },
  {
   "cell_type": "code",
   "execution_count": 12,
   "metadata": {
    "colab": {
     "base_uri": "https://localhost:8080/",
     "height": 479
    },
    "executionInfo": {
     "elapsed": 3156,
     "status": "ok",
     "timestamp": 1646218928237,
     "user": {
      "displayName": "CLAUDIA ÁLVAREZ APARICIO",
      "photoUrl": "https://lh3.googleusercontent.com/a-/AOh14Gj_NeFoI_wj9jNw4H1XXIR_lAe2GmJGV47YPihOug=s64",
      "userId": "15412906191221927773"
     },
     "user_tz": -60
    },
    "id": "AkcJFw_YPA5n",
    "outputId": "e2dcc036-61a6-4980-d61d-210a090afe16",
    "tags": []
   },
   "outputs": [
    {
     "name": "stdout",
     "output_type": "stream",
     "text": [
      "+++++++++++++++++++++++++++++++++++++++++++++++++++++\n",
      "+++++++++++++++++++++++ TIME ++++++++++++++++++++++++\n",
      "+++++++++++++++++++++++++++++++++++++++++++++++++++++\n"
     ]
    },
    {
     "data": {
      "text/html": [
       "<div>\n",
       "<style scoped>\n",
       "    .dataframe tbody tr th:only-of-type {\n",
       "        vertical-align: middle;\n",
       "    }\n",
       "\n",
       "    .dataframe tbody tr th {\n",
       "        vertical-align: top;\n",
       "    }\n",
       "\n",
       "    .dataframe thead th {\n",
       "        text-align: right;\n",
       "    }\n",
       "</style>\n",
       "<table border=\"1\" class=\"dataframe\">\n",
       "  <thead>\n",
       "    <tr style=\"text-align: right;\">\n",
       "      <th></th>\n",
       "      <th>robot</th>\n",
       "      <th>target dist.</th>\n",
       "      <th>contextless</th>\n",
       "      <th>CI</th>\n",
       "    </tr>\n",
       "  </thead>\n",
       "  <tbody>\n",
       "    <tr>\n",
       "      <th>0</th>\n",
       "      <td>simulation</td>\n",
       "      <td>3 cm</td>\n",
       "      <td>20.915871</td>\n",
       "      <td>20.16 -- 21.67</td>\n",
       "    </tr>\n",
       "    <tr>\n",
       "      <th>1</th>\n",
       "      <td>simulation</td>\n",
       "      <td>15 cm</td>\n",
       "      <td>6.681645</td>\n",
       "      <td>5.41 -- 7.95</td>\n",
       "    </tr>\n",
       "    <tr>\n",
       "      <th>2</th>\n",
       "      <td>real</td>\n",
       "      <td>3 cm</td>\n",
       "      <td>33.817821</td>\n",
       "      <td>32.88 -- 34.75</td>\n",
       "    </tr>\n",
       "    <tr>\n",
       "      <th>3</th>\n",
       "      <td>real</td>\n",
       "      <td>15 cm</td>\n",
       "      <td>12.518504</td>\n",
       "      <td>11.63 -- 13.41</td>\n",
       "    </tr>\n",
       "  </tbody>\n",
       "</table>\n",
       "</div>"
      ],
      "text/plain": [
       "        robot target dist.  contextless              CI\n",
       "0  simulation         3 cm    20.915871  20.16 -- 21.67\n",
       "1  simulation        15 cm     6.681645    5.41 -- 7.95\n",
       "2        real         3 cm    33.817821  32.88 -- 34.75\n",
       "3        real        15 cm    12.518504  11.63 -- 13.41"
      ]
     },
     "execution_count": 12,
     "metadata": {},
     "output_type": "execute_result"
    },
    {
     "data": {
      "image/png": "[encoded data removed]",
      "text/plain": [
       "<Figure size 432x288 with 1 Axes>"
      ]
     },
     "metadata": {
      "needs_background": "light"
     },
     "output_type": "display_data"
    }
   ],
   "source": [
    "print(\"+++++++++++++++++++++++++++++++++++++++++++++++++++++\")\n",
    "print(\"+++++++++++++++++++++++ TIME ++++++++++++++++++++++++\")\n",
    "print(\"+++++++++++++++++++++++++++++++++++++++++++++++++++++\")\n",
    "time_results = []\n",
    "for real in [0,1]:\n",
    "  for tabledist in [3,15]:\n",
    "      subset = df_t[(df_t.real == real) & (df_t.tabledist == tabledist) ]\n",
    "      model = smf.mixedlm(\"time ~ type\", subset, groups=subset[\"groups\"])\n",
    "      result = model.fit()\n",
    "      time_results.append([real,tabledist] + [result.params[1]] + [\" -- \".join([f\"{x:.2f}\" for x in result.conf_int(alpha=0.5).values[1,:]])])\n",
    "\n",
    "time_results = mod(pd.DataFrame( time_results, columns = [\"robot\", \"target dist.\", \"contextless\", \"CI\",]))\n",
    "time_results.to_csv(\"restable_time.csv\", index = False, float_format=\"%.2f\")\n",
    "\n",
    "\n",
    "fig, axes = plt.subplots()\n",
    "\n",
    "# contextless 3 cm (real & sim)\n",
    "axes.violinplot(dataset = [df_g[(df_g['real'] == 0) & (df_g['type'] == 'contextless') & (df_g['tabledist'] == 3)][\"scaled_time\"].values, \n",
    "                           df_g[(df_g['real'] == 1) & (df_g['type'] == 'contextless') & (df_g['tabledist'] == 3)][\"scaled_time\"].values], showextrema=True, showmeans=True, positions=[1,5])\n",
    "# context-awaret-aware 3 cm (real & sim)\n",
    "axes.violinplot(dataset = [df_g[(df_g['real'] == 0) & (df_g['type'] == 'context-aware') & (df_g['tabledist'] == 3)][\"scaled_time\"].values,\n",
    "                           df_g[(df_g['real'] == 1) & (df_g['type'] == 'context-aware') & (df_g['tabledist'] == 3)][\"scaled_time\"].values], showextrema=True, showmeans=True,  positions=[2,6])\n",
    "# contextless 15 cm (real & sim)\n",
    "axes.violinplot(dataset = [df_g[(df_g['real'] == 0) & (df_g['type'] == 'contextless') & (df_g['tabledist'] == 15)][\"scaled_time\"].values,\n",
    "                           df_g[(df_g['real'] == 1) & (df_g['type'] == 'contextless') & (df_g['tabledist'] == 15)][\"scaled_time\"].values], showextrema=True, showmeans=True, positions=[3,7])\n",
    "# context-aware 15 cm (real & sim)\n",
    "axes.violinplot(dataset = [df_g[(df_g['real'] == 0) & (df_g['type'] == 'context-aware') & (df_g['tabledist'] == 15)][\"scaled_time\"].values,\n",
    "                           df_g[(df_g['real'] == 1) & (df_g['type'] == 'context-aware') & (df_g['tabledist'] == 15)][\"scaled_time\"].values], showextrema=True, showmeans=True,  positions=[4,8])\n",
    "axes.yaxis.grid(True)\n",
    "axes.set_ylabel('seconds')\n",
    "plt.xticks([2.5,6.5], [\"simulation\", \"real\"])\n",
    "plt.plot([], c='blue', label='contextless 3 cm')\n",
    "plt.plot([], c='orange', label='context-aware 3 cm')\n",
    "plt.plot([], c='green', label='contextless 15 cm')\n",
    "plt.plot([], c='red', label='context-aware 15 cm')\n",
    "#plt.legend(loc='best', fancybox=True, framealpha=0.4)\n",
    "plt.legend(loc='best', fancybox=True)\n",
    "plt.ylim([0,35])\n",
    "\n",
    "time_results\n"
   ]
  },
  {
   "cell_type": "code",
   "execution_count": null,
   "metadata": {
    "colab": {
     "base_uri": "https://localhost:8080/",
     "height": 475
    },
    "executionInfo": {
     "elapsed": 1417,
     "status": "ok",
     "timestamp": 1646218751198,
     "user": {
      "displayName": "CLAUDIA ÁLVAREZ APARICIO",
      "photoUrl": "https://lh3.googleusercontent.com/a-/AOh14Gj_NeFoI_wj9jNw4H1XXIR_lAe2GmJGV47YPihOug=s64",
      "userId": "15412906191221927773"
     },
     "user_tz": -60
    },
    "id": "gm2cZw1jO6lH",
    "outputId": "b55d0d2d-2615-4006-acd3-1ad06bf93269"
   },
   "outputs": [],
   "source": [
    "print(\"++++++++++++++++++++++++++++++++++++++++++++++++++++++++\")\n",
    "print(\"+++++++++++++++++++++++ DISTANCE +++++++++++++++++++++++\")\n",
    "print(\"++++++++++++++++++++++++++++++++++++++++++++++++++++++++\")\n",
    "distance_results = []\n",
    "for real in [0,1]:\n",
    "  for tabledist in [3,15]:\n",
    "      subset = df_t[(df_t.real == real) & (df_t.tabledist == tabledist) ]\n",
    "      model = smf.mixedlm(\"distance ~ type\", subset, groups=subset[\"groups\"])\n",
    "      result = model.fit()\n",
    "      distance_results.append([real,tabledist] + [result.params[1]*100] + [\" -- \".join([f\"{x*100:.2f}\" for x in result.conf_int(alpha=0.5).values[1,:]])])\n",
    "\n",
    "distance_results = mod(pd.DataFrame( distance_results, columns = [\"robot\", \"target dist.\", \"contextless (cm)\", \"CI (cm)\",]))\n",
    "\n",
    "distance_results.to_csv(\"restable_dist.csv\", index = False, float_format=\"%.3f\")\n",
    "\n",
    "distance_results\n",
    "\n",
    "fig, axes = plt.subplots()\n",
    "# contextless 3 cm (real & sim)\n",
    "axes.violinplot(dataset = [df_g[(df_g['real'] == 0) & (df_g['type'] == 'contextless') & (df_g['tabledist'] == 3)][\"distance\"].values, \n",
    "                           df_g[(df_g['real'] == 1) & (df_g['type'] == 'contextless') & (df_g['tabledist'] == 3)][\"distance\"].values], showextrema=True, showmeans=True, positions=[1,5])\n",
    "# context-aware 3 cm (real & sim)\n",
    "axes.violinplot(dataset = [df_g[(df_g['real'] == 0) & (df_g['type'] == 'context-aware') & (df_g['tabledist'] == 3)][\"distance\"].values,\n",
    "                           df_g[(df_g['real'] == 1) & (df_g['type'] == 'context-aware') & (df_g['tabledist'] == 3)][\"distance\"].values], showextrema=True, showmeans=True,  positions=[2,6])\n",
    "# contextless 15 cm (real & sim)\n",
    "axes.violinplot(dataset = [df_g[(df_g['real'] == 0) & (df_g['type'] == 'contextless') & (df_g['tabledist'] == 15)][\"distance\"].values,\n",
    "                           df_g[(df_g['real'] == 1) & (df_g['type'] == 'contextless') & (df_g['tabledist'] == 15)][\"distance\"].values], showextrema=True, showmeans=True, positions=[3,7])\n",
    "# context-aware 15 cm (real & sim)\n",
    "axes.violinplot(dataset = [df_g[(df_g['real'] == 0) & (df_g['type'] == 'context-aware') & (df_g['tabledist'] == 15)][\"distance\"].values,\n",
    "                           df_g[(df_g['real'] == 1) & (df_g['type'] == 'context-aware') & (df_g['tabledist'] == 15)][\"distance\"].values], showextrema=True, showmeans=True,  positions=[4,8])\n",
    "\n",
    "axes.yaxis.grid(True)\n",
    "axes.set_ylabel('meters')\n",
    "plt.xticks([2.5,6.5], [\"simulation\", \"real\"])\n",
    "plt.plot([], c='blue', label='contextless 3 cm')\n",
    "plt.plot([], c='orange', label='context-aware 3 cm')\n",
    "plt.plot([], c='green', label='contextless 15 cm')\n",
    "plt.plot([], c='red', label='context-aware 15 cm')\n",
    "#plt.legend(loc='upper left', fancybox=True, framealpha=0.4)\n",
    "plt.legend(loc='upper left', fancybox=True)\n",
    "\n",
    "\n",
    "distance_results"
   ]
  },
  {
   "cell_type": "code",
   "execution_count": null,
   "metadata": {
    "colab": {
     "base_uri": "https://localhost:8080/",
     "height": 475
    },
    "executionInfo": {
     "elapsed": 2545,
     "status": "ok",
     "timestamp": 1646218846742,
     "user": {
      "displayName": "CLAUDIA ÁLVAREZ APARICIO",
      "photoUrl": "https://lh3.googleusercontent.com/a-/AOh14Gj_NeFoI_wj9jNw4H1XXIR_lAe2GmJGV47YPihOug=s64",
      "userId": "15412906191221927773"
     },
     "user_tz": -60
    },
    "id": "n_oDaqjLO-rR",
    "outputId": "5a025fa9-f5c1-413c-ec68-aff5b24db99b"
   },
   "outputs": [],
   "source": [
    "print(\"++++++++++++++++++++++++++++++++++++++++++++++++++++\")\n",
    "print(\"+++++++++++++++++++ ORIENTATION ++++++++++++++++++++\")\n",
    "print(\"++++++++++++++++++++++++++++++++++++++++++++++++++++\")\n",
    "\n",
    "orientation_results = []\n",
    "for real in [0,1]:\n",
    "  for tabledist in [3,15]:\n",
    "      subset = df_t[(df_t.real == real) & (df_t.tabledist == tabledist) ]\n",
    "      model = smf.mixedlm(\"orientation ~ type\", subset, groups=subset[\"groups\"])\n",
    "      result = model.fit()\n",
    "      orientation_results.append([real,tabledist] + [result.params[1]] + [\" -- \".join([f\"{x:.2f}\" for x in result.conf_int(alpha=0.5).values[1,:]])])\n",
    "\n",
    "orientation_results = mod(pd.DataFrame( orientation_results, columns = [\"robot\", \"target dist.\", \"contextless\", \"CI\",]))\n",
    "orientation_results.to_csv(\"restable_orientation.csv\", index = False, float_format=\"%.2f\")\n",
    "\n",
    "fig, axes = plt.subplots()\n",
    "# contextless 3 cm (real & sim)\n",
    "axes.violinplot(dataset = [df_g[(df_g['real'] == 0) & (df_g['type'] == 'contextless') & (df_g['tabledist'] == 3)][\"orientation\"].values, \n",
    "                           df_g[(df_g['real'] == 1) & (df_g['type'] == 'contextless') & (df_g['tabledist'] == 3)][\"orientation\"].values], showextrema=True, showmeans=True, positions=[1,5])\n",
    "# context-aware 3 cm (real & sim)\n",
    "axes.violinplot(dataset = [df_g[(df_g['real'] == 0) & (df_g['type'] == 'context-aware') & (df_g['tabledist'] == 3)][\"orientation\"].values,\n",
    "                           df_g[(df_g['real'] == 1) & (df_g['type'] == 'context-aware') & (df_g['tabledist'] == 3)][\"orientation\"].values], showextrema=True, showmeans=True,  positions=[2,6])\n",
    "# contextless 15 cm (real & sim)\n",
    "axes.violinplot(dataset = [df_g[(df_g['real'] == 0) & (df_g['type'] == 'contextless') & (df_g['tabledist'] == 15)][\"orientation\"].values,\n",
    "                           df_g[(df_g['real'] == 1) & (df_g['type'] == 'contextless') & (df_g['tabledist'] == 15)][\"orientation\"].values], showextrema=True, showmeans=True, positions=[3,7])\n",
    "# context-aware 15 cm (real & sim)\n",
    "axes.violinplot(dataset = [df_g[(df_g['real'] == 0) & (df_g['type'] == 'context-aware') & (df_g['tabledist'] == 15)][\"orientation\"].values,\n",
    "                           df_g[(df_g['real'] == 1) & (df_g['type'] == 'context-aware') & (df_g['tabledist'] == 15)][\"orientation\"].values], showextrema=True, showmeans=True,  positions=[4,8])\n",
    "\n",
    "axes.yaxis.grid(True)\n",
    "axes.set_ylabel('degrees')\n",
    "plt.xticks([2.5,6.5], [\"simulation\", \"real\"])\n",
    "plt.plot([], c='blue', label='contextless 3 cm')\n",
    "plt.plot([], c='orange', label='context-aware 3 cm')\n",
    "plt.plot([], c='green', label='contextless 15 cm')\n",
    "plt.plot([], c='red', label='context-aware 15 cm')\n",
    "#plt.legend(loc='best', fancybox=True, framealpha=0.4)\n",
    "plt.legend(loc='upper left', fancybox=True)\n",
    "plt.ylim([0,75])\n",
    "\n",
    "orientation_results"
   ]
  },
  {
   "cell_type": "code",
   "execution_count": null,
   "metadata": {},
   "outputs": [],
   "source": []
  }
 ],
 "metadata": {
  "colab": {
   "name": "paper_results.ipynb",
   "provenance": []
  },
  "kernelspec": {
   "display_name": "Python 3 (ipykernel)",
   "language": "python",
   "name": "python3"
  },
  "language_info": {
   "codemirror_mode": {
    "name": "ipython",
    "version": 3
   },
   "file_extension": ".py",
   "mimetype": "text/x-python",
   "name": "python",
   "nbconvert_exporter": "python",
   "pygments_lexer": "ipython3",
   "version": "3.7.12"
  }
 },
 "nbformat": 4,
 "nbformat_minor": 4
}
